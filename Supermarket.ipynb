{
  "metadata": {
    "kernelspec": {
      "name": "xpython",
      "display_name": "Python 3.13 (XPython)",
      "language": "python"
    },
    "language_info": {
      "file_extension": ".py",
      "mimetype": "text/x-python",
      "name": "python",
      "version": "3.13.1"
    }
  },
  "nbformat_minor": 5,
  "nbformat": 4,
  "cells": [
    {
      "id": "6085d52c-c492-4841-bdb7-8ad70dc43cb5",
      "cell_type": "code",
      "source": "# ============================================================================\n# SUPERMARKET BILLING SYSTEM\n# ============================================================================\n# This system handles supermarket billing with multiple discount types\n# Features: Item management, multiple discounts, itemized receipts\n# ============================================================================\n\n# Cell 1: Import Required Libraries and Initialize Constants\n# ============================================================================\n\nfrom datetime import datetime\nimport os\n\n# Store configuration constants\nSTORE_NAME = \"SUPER MART\"\nSTORE_ADDRESS = \"123 Main Street, City, State\"\nSTORE_PHONE = \"Tel: (555) 123-4567\"\nTAX_RATE = 0.08  # 8% sales tax\n\n# Discount thresholds and rates\nDISCOUNT_TIER_1 = 100  # First discount threshold\nDISCOUNT_TIER_2 = 200  # Second discount threshold\nDISCOUNT_RATE_1 = 0.05  # 5% discount\nDISCOUNT_RATE_2 = 0.10  # 10% discount\n\n# Category-based discounts\nCATEGORY_DISCOUNTS = {\n    'electronics': 0.20,  # 20% off\n    'clothing': 0.15,     # 15% off\n    'groceries': 0.05,    # 5% off\n    'home': 0.10          # 10% off\n}\n\n# Quantity discount threshold\nBULK_QUANTITY = 5  # Buy 5 or more items\nBULK_DISCOUNT = 0.10  # Get 10% off\n\nprint(\"=\" * 60)\nprint(\"SUPERMARKET BILLING SYSTEM\")\nprint(\"=\" * 60)\nprint(\"System initialized successfully!\")\nprint(f\"Store: {STORE_NAME}\")\nprint(\"=\" * 60)",
      "metadata": {
        "trusted": true
      },
      "outputs": [
        {
          "name": "stdout",
          "output_type": "stream",
          "text": "============================================================\nSUPERMARKET BILLING SYSTEM\n============================================================\nSystem initialized successfully!\nStore: SUPER MART\n============================================================\n"
        }
      ],
      "execution_count": 1
    },
    {
      "id": "b8868630-97d5-49f0-904a-790374a35b91",
      "cell_type": "code",
      "source": "# Cell 2: Function to Display Available Product Categories\n# ============================================================================\n\ndef display_categories():\n    \"\"\"\n    Display all available product categories with their discount rates.\n    This helps users understand what discounts are available.\n    \"\"\"\n    print(\"\\n\" + \"=\" * 60)\n    print(\"AVAILABLE PRODUCT CATEGORIES\")\n    print(\"=\" * 60)\n    \n    for idx, (category, discount) in enumerate(CATEGORY_DISCOUNTS.items(), 1):\n        print(f\"{idx}. {category.upper():<15} - {discount*100:.0f}% discount\")\n    \n    print(\"=\" * 60)",
      "metadata": {
        "trusted": true
      },
      "outputs": [],
      "execution_count": 2
    },
    {
      "id": "a5a7822a-1d5c-4ae8-b955-9641b508d98e",
      "cell_type": "code",
      "source": "# Cell 3: Function to Add Item to Cart\n# ============================================================================\n\ndef add_item_to_cart(cart):\n    \"\"\"\n    Add a new item to the shopping cart.\n    \n    Parameters:\n    cart (list): The shopping cart containing all items\n    \n    Returns:\n    bool: True if item added successfully, False otherwise\n    \"\"\"\n    try:\n        print(\"\\n\" + \"-\" * 60)\n        print(\"ADD NEW ITEM\")\n        print(\"-\" * 60)\n        \n        # Get item name\n        item_name = input(\"Enter item name: \").strip()\n        if not item_name:\n            print(\"⚠️  Item name cannot be empty!\")\n            return False\n        \n        # Get item quantity\n        quantity = int(input(\"Enter quantity: \"))\n        if quantity <= 0:\n            print(\"⚠️  Quantity must be greater than 0!\")\n            return False\n        \n        # Get item price\n        price = float(input(\"Enter price per unit ($): \"))\n        if price <= 0:\n            print(\"⚠️  Price must be greater than 0!\")\n            return False\n        \n        # Display and select category\n        display_categories()\n        category = input(\"Enter item category (or press Enter for 'other'): \").strip().lower()\n        \n        # If category not in predefined list, set as 'other' with no discount\n        if category not in CATEGORY_DISCOUNTS:\n            category = 'other'\n        \n        # Calculate line total\n        line_total = quantity * price\n        \n        # Create item dictionary\n        item = {\n            'name': item_name,\n            'quantity': quantity,\n            'price': price,\n            'category': category,\n            'line_total': line_total\n        }\n        \n        # Add item to cart\n        cart.append(item)\n        \n        print(f\"✓ {item_name} added to cart successfully!\")\n        print(f\"  Quantity: {quantity}, Price: ${price:.2f}, Total: ${line_total:.2f}\")\n        \n        return True\n        \n    except ValueError:\n        print(\"⚠️  Invalid input! Please enter correct values.\")\n        return False\n    except Exception as e:\n        print(f\"⚠️  Error adding item: {e}\")\n        return False",
      "metadata": {
        "trusted": true
      },
      "outputs": [],
      "execution_count": 3
    },
    {
      "id": "274a1167-6373-453d-8f3f-2bc140951fb5",
      "cell_type": "code",
      "source": "# Cell 4: Function to Display Current Cart\n# ============================================================================\n\ndef display_cart(cart):\n    \"\"\"\n    Display all items currently in the shopping cart.\n    \n    Parameters:\n    cart (list): The shopping cart containing all items\n    \"\"\"\n    if not cart:\n        print(\"\\n🛒 Your cart is empty!\")\n        return\n    \n    print(\"\\n\" + \"=\" * 60)\n    print(\"CURRENT SHOPPING CART\")\n    print(\"=\" * 60)\n    print(f\"{'Item':<20} {'Qty':<8} {'Price':<12} {'Total':<12}\")\n    print(\"-\" * 60)\n    \n    for item in cart:\n        print(f\"{item['name']:<20} {item['quantity']:<8} \"\n              f\"${item['price']:<11.2f} ${item['line_total']:<11.2f}\")\n    \n    print(\"=\" * 60)\n    print(f\"Total Items in Cart: {len(cart)}\")\n    print(\"=\" * 60)\n",
      "metadata": {
        "trusted": true
      },
      "outputs": [],
      "execution_count": 4
    },
    {
      "id": "402c51dc-7efa-4ccd-9f43-4c20d28e452c",
      "cell_type": "code",
      "source": "# Cell 5: Function to Calculate Subtotal\n# ============================================================================\n\ndef calculate_subtotal(cart):\n    \"\"\"\n    Calculate the subtotal of all items in the cart before any discounts.\n    \n    Parameters:\n    cart (list): The shopping cart containing all items\n    \n    Returns:\n    float: Subtotal amount\n    \"\"\"\n    subtotal = sum(item['line_total'] for item in cart)\n    return subtotal\n",
      "metadata": {
        "trusted": true
      },
      "outputs": [],
      "execution_count": 5
    },
    {
      "id": "033e4a3a-9c40-48fb-b7b0-d023998bf9fc",
      "cell_type": "code",
      "source": "# Cell 6: Function to Apply Total Amount Discount\n# ============================================================================\n\ndef apply_total_amount_discount(subtotal):\n    \"\"\"\n    Apply discount based on the total purchase amount.\n    Tier 1: $100+ gets 5% off\n    Tier 2: $200+ gets 10% off\n    \n    Parameters:\n    subtotal (float): The subtotal amount before discount\n    \n    Returns:\n    tuple: (discount_amount, discount_percentage, tier_message)\n    \"\"\"\n    if subtotal >= DISCOUNT_TIER_2:\n        discount_rate = DISCOUNT_RATE_2\n        discount_amount = subtotal * discount_rate\n        tier_message = f\"Total Amount Discount (${DISCOUNT_TIER_2}+)\"\n        return discount_amount, discount_rate * 100, tier_message\n    \n    elif subtotal >= DISCOUNT_TIER_1:\n        discount_rate = DISCOUNT_RATE_1\n        discount_amount = subtotal * discount_rate\n        tier_message = f\"Total Amount Discount (${DISCOUNT_TIER_1}+)\"\n        return discount_amount, discount_rate * 100, tier_message\n    \n    else:\n        return 0, 0, None",
      "metadata": {
        "trusted": true
      },
      "outputs": [],
      "execution_count": 6
    },
    {
      "id": "ed8bc810-b9f2-49ec-85a9-726be1fcb360",
      "cell_type": "code",
      "source": "# Cell 7: Function to Apply Category Discounts\n# ============================================================================\n\ndef apply_category_discounts(cart):\n    \"\"\"\n    Apply discounts based on item categories.\n    Each category has a predefined discount rate.\n    \n    Parameters:\n    cart (list): The shopping cart containing all items\n    \n    Returns:\n    tuple: (total_discount_amount, discount_details_list)\n    \"\"\"\n    category_discount_total = 0\n    discount_details = []\n    \n    for item in cart:\n        category = item['category']\n        \n        # Check if category has a discount\n        if category in CATEGORY_DISCOUNTS:\n            discount_rate = CATEGORY_DISCOUNTS[category]\n            item_discount = item['line_total'] * discount_rate\n            category_discount_total += item_discount\n            \n            # Store discount details for receipt\n            discount_details.append({\n                'item': item['name'],\n                'category': category,\n                'discount_rate': discount_rate * 100,\n                'discount_amount': item_discount\n            })\n    \n    return category_discount_total, discount_details",
      "metadata": {
        "trusted": true
      },
      "outputs": [],
      "execution_count": 7
    },
    {
      "id": "bb17e564-46ba-4e9c-babe-21525ef51584",
      "cell_type": "code",
      "source": "# Cell 8: Function to Apply Bulk Quantity Discount\n# ============================================================================\n\ndef apply_bulk_discount(cart):\n    \"\"\"\n    Apply discount for items purchased in bulk (5 or more of same item).\n    \n    Parameters:\n    cart (list): The shopping cart containing all items\n    \n    Returns:\n    tuple: (total_discount_amount, discount_details_list)\n    \"\"\"\n    bulk_discount_total = 0\n    discount_details = []\n    \n    for item in cart:\n        # Check if quantity meets bulk threshold\n        if item['quantity'] >= BULK_QUANTITY:\n            item_discount = item['line_total'] * BULK_DISCOUNT\n            bulk_discount_total += item_discount\n            \n            # Store discount details\n            discount_details.append({\n                'item': item['name'],\n                'quantity': item['quantity'],\n                'discount_amount': item_discount\n            })\n    \n    return bulk_discount_total, discount_details\n",
      "metadata": {
        "trusted": true
      },
      "outputs": [],
      "execution_count": 8
    },
    {
      "id": "7299d9a8-159f-43ec-81c5-35af01c7e0a2",
      "cell_type": "code",
      "source": "# Cell 9: Function to Calculate All Discounts\n# ============================================================================\n\ndef calculate_discounts(cart, subtotal):\n    \"\"\"\n    Calculate all applicable discounts and return discount breakdown.\n    \n    Parameters:\n    cart (list): The shopping cart containing all items\n    subtotal (float): The subtotal amount before discounts\n    \n    Returns:\n    dict: Dictionary containing all discount information\n    \"\"\"\n    discount_info = {\n        'total_amount_discount': 0,\n        'total_amount_rate': 0,\n        'total_amount_message': None,\n        'category_discount': 0,\n        'category_details': [],\n        'bulk_discount': 0,\n        'bulk_details': [],\n        'total_discount': 0\n    }\n    \n    # Apply total amount discount\n    amount_disc, amount_rate, amount_msg = apply_total_amount_discount(subtotal)\n    discount_info['total_amount_discount'] = amount_disc\n    discount_info['total_amount_rate'] = amount_rate\n    discount_info['total_amount_message'] = amount_msg\n    \n    # Apply category discounts\n    cat_disc, cat_details = apply_category_discounts(cart)\n    discount_info['category_discount'] = cat_disc\n    discount_info['category_details'] = cat_details\n    \n    # Apply bulk quantity discounts\n    bulk_disc, bulk_details = apply_bulk_discount(cart)\n    discount_info['bulk_discount'] = bulk_disc\n    discount_info['bulk_details'] = bulk_details\n    \n    # Calculate total discount (sum of all discounts)\n    discount_info['total_discount'] = (\n        discount_info['total_amount_discount'] + \n        discount_info['category_discount'] + \n        discount_info['bulk_discount']\n    )\n    \n    return discount_info",
      "metadata": {
        "trusted": true
      },
      "outputs": [],
      "execution_count": 9
    },
    {
      "id": "3ba665ef-eb3b-4cb0-8096-4f5fbbbd7c18",
      "cell_type": "code",
      "source": "# Cell 10: Function to Calculate Tax\n# ============================================================================\n\ndef calculate_tax(amount_after_discount):\n    \"\"\"\n    Calculate sales tax on the amount after discounts.\n    \n    Parameters:\n    amount_after_discount (float): Amount after all discounts applied\n    \n    Returns:\n    float: Tax amount\n    \"\"\"\n    tax = amount_after_discount * TAX_RATE\n    return tax",
      "metadata": {
        "trusted": true
      },
      "outputs": [],
      "execution_count": 10
    },
    {
      "id": "6356d34b-3f8e-4174-ada5-f3ae88a2a2e1",
      "cell_type": "code",
      "source": "# Cell 11: Function to Generate and Print Receipt\n# ============================================================================\n\ndef print_receipt(cart, discount_info):\n    \"\"\"\n    Generate and display a detailed itemized receipt.\n    \n    Parameters:\n    cart (list): The shopping cart containing all items\n    discount_info (dict): Dictionary containing all discount information\n    \"\"\"\n    # Clear screen for clean receipt display (optional)\n    # os.system('clear' if os.name == 'posix' else 'cls')\n    \n    # Calculate amounts\n    subtotal = calculate_subtotal(cart)\n    amount_after_discount = subtotal - discount_info['total_discount']\n    tax = calculate_tax(amount_after_discount)\n    final_total = amount_after_discount + tax\n    \n    # Get current date and time\n    current_time = datetime.now().strftime(\"%Y-%m-%d %H:%M:%S\")\n    \n    # Print receipt header\n    print(\"\\n\" + \"=\" * 70)\n    print(f\"{STORE_NAME:^70}\")\n    print(f\"{STORE_ADDRESS:^70}\")\n    print(f\"{STORE_PHONE:^70}\")\n    print(\"=\" * 70)\n    print(f\"Date: {current_time}\")\n    print(\"=\" * 70)\n    \n    # Print itemized list\n    print(\"\\nITEMIZED BILL\")\n    print(\"-\" * 70)\n    print(f\"{'Item':<25} {'Qty':<8} {'Price':<12} {'Total':<12}\")\n    print(\"-\" * 70)\n    \n    for item in cart:\n        print(f\"{item['name']:<25} {item['quantity']:<8} \"\n              f\"${item['price']:<11.2f} ${item['line_total']:<11.2f}\")\n        # Show category if it has discount\n        if item['category'] in CATEGORY_DISCOUNTS:\n            print(f\"  └─ Category: {item['category']} \"\n                  f\"({CATEGORY_DISCOUNTS[item['category']]*100:.0f}% discount)\")\n    \n    print(\"-\" * 70)\n    \n    # Print subtotal\n    print(f\"{'SUBTOTAL:':<58} ${subtotal:>10.2f}\")\n    print()\n    \n    # Print discount breakdown\n    if discount_info['total_discount'] > 0:\n        print(\"DISCOUNTS APPLIED:\")\n        print(\"-\" * 70)\n        \n        # Total amount discount\n        if discount_info['total_amount_discount'] > 0:\n            print(f\"  {discount_info['total_amount_message']} \"\n                  f\"({discount_info['total_amount_rate']:.0f}%)\")\n            print(f\"{'':>48} -${discount_info['total_amount_discount']:>10.2f}\")\n        \n        # Category discounts\n        if discount_info['category_discount'] > 0:\n            print(f\"\\n  Category Discounts:\")\n            for detail in discount_info['category_details']:\n                print(f\"    • {detail['item']} ({detail['category']}) \"\n                      f\"- {detail['discount_rate']:.0f}% off\")\n                print(f\"{'':>48} -${detail['discount_amount']:>10.2f}\")\n        \n        # Bulk discounts\n        if discount_info['bulk_discount'] > 0:\n            print(f\"\\n  Bulk Purchase Discounts ({BULK_DISCOUNT*100:.0f}% off for {BULK_QUANTITY}+ items):\")\n            for detail in discount_info['bulk_details']:\n                print(f\"    • {detail['item']} (Qty: {detail['quantity']})\")\n                print(f\"{'':>48} -${detail['discount_amount']:>10.2f}\")\n        \n        print(\"-\" * 70)\n        print(f\"{'TOTAL DISCOUNT:':<58} -${discount_info['total_discount']:>10.2f}\")\n        print()\n    \n    # Print amount after discount\n    print(f\"{'AMOUNT AFTER DISCOUNT:':<58} ${amount_after_discount:>10.2f}\")\n    \n    # Print tax\n    print(f\"{'TAX (' + str(int(TAX_RATE*100)) + '%):':58} ${tax:>10.2f}\")\n    print(\"=\" * 70)\n    \n    # Print final total\n    print(f\"{'TOTAL AMOUNT DUE:':<58} ${final_total:>10.2f}\")\n    print(\"=\" * 70)\n    \n    # Savings summary\n    if discount_info['total_discount'] > 0:\n        savings_percent = (discount_info['total_discount'] / subtotal) * 100\n        print(f\"\\n🎉 YOU SAVED: ${discount_info['total_discount']:.2f} ({savings_percent:.1f}%)\")\n    \n    print(\"\\n\" + \"=\" * 70)\n    print(\"THANK YOU FOR SHOPPING WITH US!\".center(70))\n    print(\"PLEASE VISIT AGAIN!\".center(70))\n    print(\"=\" * 70 + \"\\n\")",
      "metadata": {
        "trusted": true
      },
      "outputs": [],
      "execution_count": 11
    },
    {
      "id": "8fba4642-9750-475b-93f0-24674f4c9611",
      "cell_type": "code",
      "source": "# Cell 12: Main Billing System Function\n# ============================================================================\n\ndef supermarket_billing_system():\n    \"\"\"\n    Main function to run the supermarket billing system.\n    Handles the entire billing process from item entry to receipt generation.\n    \"\"\"\n    # Initialize empty shopping cart\n    cart = []\n    \n    print(\"\\n\" + \"=\" * 60)\n    print(\"WELCOME TO THE SUPERMARKET BILLING SYSTEM\")\n    print(\"=\" * 60)\n    \n    # Main loop for adding items\n    while True:\n        print(\"\\n\" + \"=\" * 60)\n        print(\"MENU OPTIONS\")\n        print(\"=\" * 60)\n        print(\"1. Add item to cart\")\n        print(\"2. View current cart\")\n        print(\"3. Complete purchase and generate receipt\")\n        print(\"4. Cancel and exit\")\n        print(\"=\" * 60)\n        \n        choice = input(\"\\nEnter your choice (1-4): \").strip()\n        \n        if choice == '1':\n            # Add item to cart\n            add_item_to_cart(cart)\n            \n        elif choice == '2':\n            # Display current cart\n            display_cart(cart)\n            \n        elif choice == '3':\n            # Complete purchase\n            if not cart:\n                print(\"\\n⚠️  Your cart is empty! Please add items first.\")\n                continue\n            \n            # Display final cart\n            display_cart(cart)\n            \n            # Confirm purchase\n            confirm = input(\"\\nProceed with checkout? (yes/no): \").strip().lower()\n            \n            if confirm in ['yes', 'y']:\n                # Calculate subtotal\n                subtotal = calculate_subtotal(cart)\n                \n                # Calculate all discounts\n                discount_info = calculate_discounts(cart, subtotal)\n                \n                # Generate and print receipt\n                print_receipt(cart, discount_info)\n                \n                # Ask if user wants to start a new transaction\n                new_transaction = input(\"\\nStart a new transaction? (yes/no): \").strip().lower()\n                if new_transaction in ['yes', 'y']:\n                    cart = []  # Reset cart\n                    print(\"\\n✓ New transaction started!\")\n                else:\n                    print(\"\\n✓ Thank you! Exiting system...\")\n                    break\n            else:\n                print(\"✓ Checkout cancelled.\")\n                \n        elif choice == '4':\n            # Exit system\n            print(\"\\n✓ Thank you! Exiting system...\")\n            break\n            \n        else:\n            print(\"\\n⚠️  Invalid choice! Please enter 1-4.\")",
      "metadata": {
        "trusted": true
      },
      "outputs": [],
      "execution_count": 12
    },
    {
      "id": "cc42481a-3386-4d52-a8d0-d6fe8d0dffe3",
      "cell_type": "code",
      "source": "# Cell 13: Run the Billing System\n# ============================================================================\n\n# Call the main function to start the billing system\nsupermarket_billing_system()",
      "metadata": {
        "trusted": true
      },
      "outputs": [
        {
          "name": "stdout",
          "output_type": "stream",
          "text": "\n============================================================\nWELCOME TO THE SUPERMARKET BILLING SYSTEM\n============================================================\n\n============================================================\nMENU OPTIONS\n============================================================\n1. Add item to cart\n2. View current cart\n3. Complete purchase and generate receipt\n4. Cancel and exit\n============================================================\n"
        }
      ],
      "execution_count": null
    },
    {
      "id": "8a2be21b-7172-4632-93a3-6741954430bb",
      "cell_type": "code",
      "source": "",
      "metadata": {
        "trusted": true
      },
      "outputs": [],
      "execution_count": null
    }
  ]
}